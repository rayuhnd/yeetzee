{
 "cells": [
  {
   "cell_type": "code",
   "execution_count": null,
   "id": "92830749-217f-44e4-bc21-bb00d4832955",
   "metadata": {},
   "outputs": [
    {
     "name": "stdout",
     "output_type": "stream",
     "text": [
      "\n",
      "================================================================================================================\n",
      "                                                                                  \n",
      " __      __       .__                                  __           _____.___.       __                 ._.\n",
      "/  \\    /  \\ ____ |  |   ____  ____   _____   ____   _/  |_  ____   \\__  |   |____ _/  |____________.__.| |\n",
      "\\   \\/\\/   // __ \\|  | _/ ___\\/  _ \\ /     \\_/ __ \\  \\   __\\/  _ \\   /   |   \\__  \\   __\\___   <   |  || |\n",
      " \\        /\\  ___/|  |_\\  \\__(  <_> )  Y Y  \\  ___/   |  | (  <_> )  \\____   |/ __ \\|  |  /    / \\___  | \\|\n",
      "  \\__/\\  /  \\___  >____/\\___  >____/|__|_|  /\\___  >  |__|  \\____/   / ______(____  /__| /_____ \\/ ____| __\n",
      "       \\/       \\/          \\/            \\/     \\/                  \\/           \\/           \\/\\/      \\/\n",
      "   \n",
      "================================================================================================================\n",
      "                                           🎲 Choose Your Mode 🎲                          \n",
      "================================================================================================================\n",
      "                                       1. 🎲 Single Player Mode 🎲                            \n",
      "                                         2. 🎲 Multiplayer Mode 🎲                             \n",
      "                                               3. 🚪 Exit                                            \n",
      "\n",
      "================================================================================================================\n",
      "                           Roll the dice, aim high, and claim victory in Yatzy!                \n",
      "================================================================================================================\n",
      "\n"
     ]
    },
    {
     "name": "stdin",
     "output_type": "stream",
     "text": [
      "Enter your choice:  1\n"
     ]
    },
    {
     "name": "stdout",
     "output_type": "stream",
     "text": [
      "Welcome to Single Player Mode!\n"
     ]
    },
    {
     "name": "stdin",
     "output_type": "stream",
     "text": [
      "Press Enter to roll the dice... \n"
     ]
    },
    {
     "name": "stdout",
     "output_type": "stream",
     "text": [
      "You rolled: [2, 6, 1, 1, 3]\n"
     ]
    },
    {
     "name": "stdin",
     "output_type": "stream",
     "text": [
      "Do you want to roll again? (y/n)  n\n"
     ]
    },
    {
     "name": "stdout",
     "output_type": "stream",
     "text": [
      "You chose to keep all\n",
      "Current score sheet\n",
      "Ones: []\n",
      "Twos: []\n",
      "Threes: []\n",
      "Fours: []\n",
      "Fives: []\n",
      "Sixes: []\n",
      "One Pair: []\n",
      "Two Pairs: []\n",
      "Three of a Kind: []\n",
      "Four of a Kind: []\n",
      "Small Straight: []\n",
      "Large Straight: []\n",
      "Full House: []\n",
      "Chance: []\n",
      "Yatzy: []\n"
     ]
    }
   ],
   "source": [
    "from yatzee import roll_dice, single_player_mode\n",
    "\n",
    "def display_menu():\n",
    "    print(\"\"\"\n",
    "================================================================================================================\n",
    "                                                                                  \n",
    " __      __       .__                                  __           _____.___.       __                 ._.\n",
    "/  \\    /  \\ ____ |  |   ____  ____   _____   ____   _/  |_  ____   \\__  |   |____ _/  |____________.__.| |\n",
    "\\   \\/\\/   // __ \\|  | _/ ___\\/  _ \\ /     \\_/ __ \\  \\   __\\/  _ \\   /   |   \\__  \\\\   __\\___   <   |  || |\n",
    " \\        /\\  ___/|  |_\\  \\__(  <_> )  Y Y  \\  ___/   |  | (  <_> )  \\____   |/ __ \\|  |  /    / \\___  | \\|\n",
    "  \\__/\\  /  \\___  >____/\\___  >____/|__|_|  /\\___  >  |__|  \\____/   / ______(____  /__| /_____ \\/ ____| __\n",
    "       \\/       \\/          \\/            \\/     \\/                  \\/           \\/           \\/\\/      \\/\n",
    "   \n",
    "================================================================================================================\n",
    "                                           🎲 Choose Your Mode 🎲                          \n",
    "================================================================================================================\n",
    "                                       1. 🎲 Single Player Mode 🎲                            \n",
    "                                         2. 🎲 Multiplayer Mode 🎲                             \n",
    "                                               3. 🚪 Exit                                            \n",
    "\n",
    "================================================================================================================\n",
    "                           Roll the dice, aim high, and claim victory in Yatzy!                \n",
    "================================================================================================================\n",
    "\"\"\")\n",
    "\n",
    "\n",
    "def main():\n",
    "    while True:\n",
    "        display_menu()\n",
    "        choice = input(\"Enter your choice: \")\n",
    "        \n",
    "        if choice == '1':\n",
    "            single_player_mode()\n",
    "        elif choice == '2':\n",
    "            multiplayer_mode()\n",
    "        elif choice == '3':\n",
    "            print(\"Thank you for playing! Goodbye!\")\n",
    "            break\n",
    "        else:\n",
    "            print(\"Invalid choice, please try again.\")\n",
    "\n",
    "main()\n"
   ]
  },
  {
   "cell_type": "code",
   "execution_count": null,
   "id": "3955e07a-1021-4ebc-93e8-fd506fe73354",
   "metadata": {},
   "outputs": [],
   "source": []
  }
 ],
 "metadata": {
  "kernelspec": {
   "display_name": "Python 3 (ipykernel)",
   "language": "python",
   "name": "python3"
  },
  "language_info": {
   "codemirror_mode": {
    "name": "ipython",
    "version": 3
   },
   "file_extension": ".py",
   "mimetype": "text/x-python",
   "name": "python",
   "nbconvert_exporter": "python",
   "pygments_lexer": "ipython3",
   "version": "3.11.9"
  }
 },
 "nbformat": 4,
 "nbformat_minor": 5
}
